{
 "cells": [
  {
   "cell_type": "code",
   "execution_count": null,
   "metadata": {},
   "outputs": [],
   "source": [
    "import glob\n",
    "import xml.etree.ElementTree as ET\n",
    "\n",
    "import numpy as np\n",
    "\n",
    "from kmeans import kmeans, avg_iou\n",
    "\n",
    "ANNOTATIONS_PATH = \"Annotations\"\n",
    "CLUSTERS = 5\n",
    "\n",
    "def load_dataset(path, \n",
    "                 relative=True,\n",
    "                 target_size=600):\n",
    "    '''\n",
    "    if relative=True, the images input should be of same size, like YOLO  mode. Relitive values will be caculated.\n",
    "    if relative=False, the images input can be different size, like Faster R-CNN mode. Absolute values will be caculated.\n",
    "    '''\n",
    "    dataset = []\n",
    "    for xml_file in glob.glob(\"{}/*xml\".format(path)):\n",
    "        tree = ET.parse(xml_file)\n",
    "\n",
    "        height = int(tree.findtext(\"./size/height\"))\n",
    "        width = int(tree.findtext(\"./size/width\"))\n",
    "        \n",
    "        if relative :\n",
    "            for obj in tree.iter(\"object\"):\n",
    "                xmin = int(obj.findtext(\"bndbox/xmin\")) / width\n",
    "                ymin = int(obj.findtext(\"bndbox/ymin\")) / height\n",
    "                xmax = int(obj.findtext(\"bndbox/xmax\")) / width\n",
    "                ymax = int(obj.findtext(\"bndbox/ymax\")) / height\n",
    "\n",
    "                dataset.append([xmax - xmin, ymax - ymin])\n",
    "\n",
    "        else :\n",
    "            ratio = target_size / min(height, width)\n",
    "            for obj in tree.iter(\"object\"):\n",
    "                xmin = int(obj.findtext(\"bndbox/xmin\")) * ratio\n",
    "                ymin = int(obj.findtext(\"bndbox/ymin\")) * ratio\n",
    "                xmax = int(obj.findtext(\"bndbox/xmax\")) * ratio\n",
    "                ymax = int(obj.findtext(\"bndbox/ymax\")) * ratio\n",
    "\n",
    "                dataset.append([xmax - xmin, ymax - ymin])\n",
    "\n",
    "\n",
    "    return np.array(dataset)"
   ]
  },
  {
   "cell_type": "code",
   "execution_count": null,
   "metadata": {},
   "outputs": [],
   "source": [
    "data = load_dataset(ANNOTATIONS_PATH, relative=False)"
   ]
  },
  {
   "cell_type": "code",
   "execution_count": 17,
   "metadata": {},
   "outputs": [
    {
     "data": {
      "text/plain": [
       "(15662, 2)"
      ]
     },
     "execution_count": 17,
     "metadata": {},
     "output_type": "execute_result"
    }
   ],
   "source": [
    "data.shape"
   ]
  },
  {
   "cell_type": "code",
   "execution_count": 5,
   "metadata": {
    "collapsed": true
   },
   "outputs": [],
   "source": [
    "out = kmeans(data, k=CLUSTERS)"
   ]
  },
  {
   "cell_type": "code",
   "execution_count": 9,
   "metadata": {},
   "outputs": [
    {
     "name": "stdout",
     "output_type": "stream",
     "text": [
      "Accuracy: 60.12%\n",
      "Boxes:\n",
      " [[ 0.76        0.76533333]\n",
      " [ 0.166       0.312     ]\n",
      " [ 0.348       0.50177936]\n",
      " [ 0.04        0.072     ]\n",
      " [ 0.092       0.14933333]]\n"
     ]
    }
   ],
   "source": [
    "print(\"Accuracy: {:.2f}%\".format(avg_iou(data, out) * 100))\n",
    "print(\"Boxes:\\n {}\".format(out))"
   ]
  },
  {
   "cell_type": "code",
   "execution_count": 10,
   "metadata": {},
   "outputs": [
    {
     "name": "stdout",
     "output_type": "stream",
     "text": [
      "Ratios:\n",
      " [0.53, 0.56, 0.62, 0.69, 0.99]\n"
     ]
    }
   ],
   "source": [
    "ratios = np.around(out[:, 0] / out[:, 1], decimals=2).tolist()\n",
    "print(\"Ratios:\\n {}\".format(sorted(ratios))) # 宽度和高度的比值 width(x)/height(y)"
   ]
  },
  {
   "cell_type": "code",
   "execution_count": null,
   "metadata": {
    "collapsed": true
   },
   "outputs": [],
   "source": []
  }
 ],
 "metadata": {
  "kernelspec": {
   "display_name": "Python 3",
   "language": "python",
   "name": "python3"
  },
  "language_info": {
   "codemirror_mode": {
    "name": "ipython",
    "version": 3
   },
   "file_extension": ".py",
   "mimetype": "text/x-python",
   "name": "python",
   "nbconvert_exporter": "python",
   "pygments_lexer": "ipython3",
   "version": "3.5.2"
  }
 },
 "nbformat": 4,
 "nbformat_minor": 2
}
