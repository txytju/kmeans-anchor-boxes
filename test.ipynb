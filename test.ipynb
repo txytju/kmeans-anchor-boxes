{
 "cells": [
  {
   "cell_type": "code",
   "execution_count": 1,
   "metadata": {
    "collapsed": true
   },
   "outputs": [],
   "source": [
    "import glob\n",
    "import xml.etree.ElementTree as ET\n",
    "\n",
    "import numpy as np\n",
    "\n",
    "from kmeans import kmeans, avg_iou\n",
    "\n",
    "ANNOTATIONS_PATH = \"Annotations\"\n",
    "CLUSTERS = 5\n",
    "\n",
    "def load_dataset(path):\n",
    "\tdataset = []\n",
    "\tfor xml_file in glob.glob(\"{}/*xml\".format(path)):\n",
    "\t\ttree = ET.parse(xml_file)\n",
    "\n",
    "\t\theight = int(tree.findtext(\"./size/height\"))\n",
    "\t\twidth = int(tree.findtext(\"./size/width\"))\n",
    "\n",
    "\t\tfor obj in tree.iter(\"object\"):\n",
    "\t\t\txmin = int(obj.findtext(\"bndbox/xmin\")) / width\n",
    "\t\t\tymin = int(obj.findtext(\"bndbox/ymin\")) / height\n",
    "\t\t\txmax = int(obj.findtext(\"bndbox/xmax\")) / width\n",
    "\t\t\tymax = int(obj.findtext(\"bndbox/ymax\")) / height\n",
    "\n",
    "\t\t\tdataset.append([xmax - xmin, ymax - ymin])\n",
    "\n",
    "\treturn np.array(dataset)"
   ]
  },
  {
   "cell_type": "code",
   "execution_count": 2,
   "metadata": {
    "collapsed": true
   },
   "outputs": [],
   "source": [
    "data = load_dataset(ANNOTATIONS_PATH)"
   ]
  },
  {
   "cell_type": "code",
   "execution_count": 4,
   "metadata": {},
   "outputs": [
    {
     "data": {
      "text/plain": [
       "(15662, 2)"
      ]
     },
     "execution_count": 4,
     "metadata": {},
     "output_type": "execute_result"
    }
   ],
   "source": [
    "data.shape"
   ]
  },
  {
   "cell_type": "code",
   "execution_count": 5,
   "metadata": {
    "collapsed": true
   },
   "outputs": [],
   "source": [
    "out = kmeans(data, k=CLUSTERS)"
   ]
  },
  {
   "cell_type": "code",
   "execution_count": 9,
   "metadata": {},
   "outputs": [
    {
     "name": "stdout",
     "output_type": "stream",
     "text": [
      "Accuracy: 60.12%\n",
      "Boxes:\n",
      " [[ 0.76        0.76533333]\n",
      " [ 0.166       0.312     ]\n",
      " [ 0.348       0.50177936]\n",
      " [ 0.04        0.072     ]\n",
      " [ 0.092       0.14933333]]\n"
     ]
    }
   ],
   "source": [
    "print(\"Accuracy: {:.2f}%\".format(avg_iou(data, out) * 100))\n",
    "print(\"Boxes:\\n {}\".format(out))"
   ]
  },
  {
   "cell_type": "code",
   "execution_count": 10,
   "metadata": {},
   "outputs": [
    {
     "name": "stdout",
     "output_type": "stream",
     "text": [
      "Ratios:\n",
      " [0.53, 0.56, 0.62, 0.69, 0.99]\n"
     ]
    }
   ],
   "source": [
    "ratios = np.around(out[:, 0] / out[:, 1], decimals=2).tolist()\n",
    "print(\"Ratios:\\n {}\".format(sorted(ratios))) # 宽度和高度的比值 width(x)/height(y)"
   ]
  },
  {
   "cell_type": "code",
   "execution_count": null,
   "metadata": {
    "collapsed": true
   },
   "outputs": [],
   "source": []
  }
 ],
 "metadata": {
  "kernelspec": {
   "display_name": "Python 3",
   "language": "python",
   "name": "python3"
  },
  "language_info": {
   "codemirror_mode": {
    "name": "ipython",
    "version": 3
   },
   "file_extension": ".py",
   "mimetype": "text/x-python",
   "name": "python",
   "nbconvert_exporter": "python",
   "pygments_lexer": "ipython3",
   "version": "3.5.2"
  }
 },
 "nbformat": 4,
 "nbformat_minor": 2
}
